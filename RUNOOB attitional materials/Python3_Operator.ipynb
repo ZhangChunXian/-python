{
 "metadata": {
  "language_info": {
   "codemirror_mode": {
    "name": "ipython",
    "version": 3
   },
   "file_extension": ".py",
   "mimetype": "text/x-python",
   "name": "python",
   "nbconvert_exporter": "python",
   "pygments_lexer": "ipython3",
   "version": "3.8.0-final"
  },
  "orig_nbformat": 2,
  "kernelspec": {
   "name": "python38064bitd6f13548ce0f4a2d8509e600cde4312d",
   "display_name": "Python 3.8.0 64-bit"
  }
 },
 "nbformat": 4,
 "nbformat_minor": 2,
 "cells": [
  {
   "cell_type": "code",
   "execution_count": 6,
   "metadata": {
    "tags": []
   },
   "outputs": [
    {
     "output_type": "stream",
     "name": "stdout",
     "text": "4\n-5\n"
    }
   ],
   "source": [
    "# https://www.runoob.com/python3/python3-data-type.html\n",
    "\n",
    "# Arithmetic Operator\n",
    "# // Divide-round down to the nearest integer\n",
    "\n",
    "print(9//2)\n",
    "print(-9//2)"
   ]
  },
  {
   "cell_type": "code",
   "execution_count": 7,
   "metadata": {},
   "outputs": [],
   "source": [
    "# Python 3.8 new feature\n",
    "# Walrus operator, can assign values to variables inside expressions\n",
    "\n",
    "my_list = [1,2,3]\n",
    "count = len(my_list)\n",
    "if count > 3:\n",
    "   print(f\"Error, {count} is too many items\")\n",
    "\n",
    "# when switch to Walrus opertor\n",
    "if (count := len(my_list)) > 3:\n",
    "   print(f\"Error, {count} is too many items\")\n"
   ]
  },
  {
   "cell_type": "code",
   "execution_count": 8,
   "metadata": {},
   "outputs": [],
   "source": [
    "while True:\n",
    "   p = input(\"Enter the password: \")\n",
    "   if p == \"the password\":\n",
    "      break \n",
    "\n",
    "# when switch to Walrus opertor\n",
    "\n",
    "while (p := input(\"Enter the password: \")) != \"the password\":\n",
    "   continue"
   ]
  },
  {
   "cell_type": "code",
   "execution_count": 4,
   "metadata": {},
   "outputs": [
    {
     "output_type": "error",
     "ename": "NameError",
     "evalue": "name 'f' is not defined",
     "traceback": [
      "\u001b[1;31m---------------------------------------------------------------------------\u001b[0m",
      "\u001b[1;31mNameError\u001b[0m                                 Traceback (most recent call last)",
      "\u001b[1;32m<ipython-input-4-6a55facde49f>\u001b[0m in \u001b[0;36m<module>\u001b[1;34m\u001b[0m\n\u001b[0;32m      1\u001b[0m \u001b[1;31m# the usage of Walrus operator in While loop\u001b[0m\u001b[1;33m\u001b[0m\u001b[1;33m\u001b[0m\u001b[1;33m\u001b[0m\u001b[0m\n\u001b[1;32m----> 2\u001b[1;33m \u001b[0mline\u001b[0m \u001b[1;33m=\u001b[0m \u001b[0mf\u001b[0m\u001b[1;33m.\u001b[0m\u001b[0mreadLine\u001b[0m\u001b[1;33m(\u001b[0m\u001b[1;33m)\u001b[0m\u001b[1;33m\u001b[0m\u001b[1;33m\u001b[0m\u001b[0m\n\u001b[0m\u001b[0;32m      3\u001b[0m \u001b[1;32mwhile\u001b[0m \u001b[0mline\u001b[0m\u001b[1;33m:\u001b[0m\u001b[1;33m\u001b[0m\u001b[1;33m\u001b[0m\u001b[0m\n\u001b[0;32m      4\u001b[0m    \u001b[0mprint\u001b[0m\u001b[1;33m(\u001b[0m\u001b[0mline\u001b[0m\u001b[1;33m)\u001b[0m\u001b[1;33m\u001b[0m\u001b[1;33m\u001b[0m\u001b[0m\n\u001b[0;32m      5\u001b[0m    \u001b[0mline\u001b[0m \u001b[1;33m=\u001b[0m \u001b[0mf\u001b[0m\u001b[1;33m.\u001b[0m\u001b[0mreadLine\u001b[0m\u001b[1;33m(\u001b[0m\u001b[1;33m)\u001b[0m\u001b[1;33m\u001b[0m\u001b[1;33m\u001b[0m\u001b[0m\n",
      "\u001b[1;31mNameError\u001b[0m: name 'f' is not defined"
     ]
    }
   ],
   "source": []
  },
  {
   "cell_type": "code",
   "execution_count": 21,
   "metadata": {
    "tags": []
   },
   "outputs": [
    {
     "output_type": "stream",
     "name": "stdout",
     "text": "The value of c is:  12\nThe value of c is:  61\nThe value of c is:  49\nThe value of c is:  -61\nThe value of c is:  240\nThe value of c is:  15\n"
    }
   ],
   "source": [
    "# Python 3 Bit operator\n",
    "a = 60      # 60 = 0011 1100\n",
    "b = 13      # 13 = 0000 1101\n",
    "c = 0\n",
    "\n",
    "\n",
    "c = a & b\n",
    "print(\"The value of c is: \", c)\n",
    "\n",
    "c = a | b\n",
    "print(\"The value of c is: \", c)\n",
    "\n",
    "c = a ^ b\n",
    "print(\"The value of c is: \", c)\n",
    "\n",
    "c = ~a\n",
    "print(\"The value of c is: \", c)\n",
    "\n",
    "c = a << 2\n",
    "print(\"The value of c is: \", c)\n",
    "\n",
    "c = a >> 2\n",
    "print(\"The value of c is: \", c)\n"
   ]
  },
  {
   "cell_type": "code",
   "execution_count": 22,
   "metadata": {
    "tags": []
   },
   "outputs": [
    {
     "output_type": "stream",
     "name": "stdout",
     "text": "0b111100\n0o74\n0x3c\n"
    }
   ],
   "source": [
    "# binary output\n",
    "print(bin(a))\n",
    "\n",
    "# Octal output\n",
    "print(oct(a))\n",
    "\n",
    "# hexadecimal output\n",
    "print(hex(a))"
   ]
  },
  {
   "cell_type": "code",
   "execution_count": 14,
   "metadata": {
    "tags": []
   },
   "outputs": [
    {
     "output_type": "stream",
     "name": "stdout",
     "text": "1. a and b have the same identity\n2. a and b have the same identity\n3. a and b do not have the same identity\n4. a and b do not have the same identity\n"
    }
   ],
   "source": [
    "# Python3 identity operator\n",
    "\n",
    "a = 20\n",
    "b = 20\n",
    "\n",
    "if (a is b):\n",
    "    print(\"1. a and b have the same identity\")\n",
    "else:\n",
    "    print(\"1. a and b do not have the same identity\")\n",
    "\n",
    "if ( id(a) == id(b)):\n",
    "    print(\"2. a and b have the same identity\")\n",
    "else:\n",
    "    print(\"2. a and b do not have the same identity\")\n",
    "\n",
    "# Modify the value of variable b\n",
    "b =30\n",
    "\n",
    "if (a is b):\n",
    "    print(\"3. a and b have the same identity\")\n",
    "else:\n",
    "    print(\"3. a and b do not have the same identity\")\n",
    "\n",
    "if ( id(a) == id(b)):\n",
    "    print(\"4. a and b have the same identity\")\n",
    "else:\n",
    "    print(\"4. a and b do not have the same identity\")\n"
   ]
  },
  {
   "cell_type": "code",
   "execution_count": 20,
   "metadata": {
    "tags": []
   },
   "outputs": [
    {
     "output_type": "stream",
     "name": "stdout",
     "text": "True\nTrue\nFalse\nTrue\n"
    }
   ],
   "source": [
    "a = [1, 2, 3]\n",
    "b = a\n",
    "\n",
    "print(b is a)\n",
    "\n",
    "print(b == a)\n",
    "\n",
    "b = a[:]\n",
    "\n",
    "print(b is a)\n",
    "\n",
    "print(b == a)"
   ]
  },
  {
   "cell_type": "code",
   "execution_count": null,
   "metadata": {},
   "outputs": [],
   "source": []
  }
 ]
}