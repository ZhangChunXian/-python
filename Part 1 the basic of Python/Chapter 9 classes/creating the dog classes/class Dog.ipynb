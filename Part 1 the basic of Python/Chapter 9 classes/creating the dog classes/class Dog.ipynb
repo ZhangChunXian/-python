{
 "metadata": {
  "language_info": {
   "codemirror_mode": {
    "name": "ipython",
    "version": 3
   },
   "file_extension": ".py",
   "mimetype": "text/x-python",
   "name": "python",
   "nbconvert_exporter": "python",
   "pygments_lexer": "ipython3",
   "version": "3.8.0-final"
  },
  "orig_nbformat": 2,
  "kernelspec": {
   "name": "python38064bitd6f13548ce0f4a2d8509e600cde4312d",
   "display_name": "Python 3.8.0 64-bit"
  }
 },
 "nbformat": 4,
 "nbformat_minor": 2,
 "cells": [
  {
   "cell_type": "code",
   "execution_count": 2,
   "metadata": {},
   "outputs": [],
   "source": [
    "class Dog:\n",
    "    # a simple attempt to model a dog.\n",
    "    def __init__(self,name,age):\n",
    "        self.name=name\n",
    "        self.age=age\n",
    "        "
   ]
  },
  {
   "cell_type": "code",
   "execution_count": 3,
   "metadata": {},
   "outputs": [],
   "source": [
    "def sit(self):\n",
    "    print(f\"{self.name} is now sitting.\")\n",
    "def roll_over(self):\n",
    "    print(f\"{self.name} rolled over!\")"
   ]
  },
  {
   "cell_type": "code",
   "execution_count": 4,
   "metadata": {
    "tags": []
   },
   "outputs": [
    {
     "output_type": "stream",
     "name": "stdout",
     "text": "My dog's name is Willie\nMy dog is 6 years old.\n"
    }
   ],
   "source": [
    "my_dog=Dog(\"Willie\",6)\n",
    "print(f\"My dog's name is {my_dog.name}\")\n",
    "print(f\"My dog is {my_dog.age} years old.\")"
   ]
  },
  {
   "cell_type": "code",
   "execution_count": 6,
   "metadata": {},
   "outputs": [
    {
     "output_type": "execute_result",
     "data": {
      "text/plain": "'Willie'"
     },
     "metadata": {},
     "execution_count": 6
    }
   ],
   "source": [
    "my_dog.name"
   ]
  },
  {
   "cell_type": "code",
   "execution_count": 8,
   "metadata": {
    "tags": []
   },
   "outputs": [
    {
     "output_type": "stream",
     "name": "stdout",
     "text": "当前字母 : P\n当前字母 : y\n当前字母 : t\n当前字母 : h\n当前字母 : o\n当前字母 : n\n当前水果 : banana\n当前水果 : apple\n当前水果 : mango\nGood bye!\n"
    }
   ],
   "source": [
    "for letter in 'Python':     # 第一个实例\n",
    "   print ('当前字母 :', letter)\n",
    " \n",
    "fruits = ['banana', 'apple',  'mango']\n",
    "for fruit in fruits:        # 第二个实例\n",
    "   print ('当前水果 :', fruit)\n",
    " \n",
    "print (\"Good bye!\")"
   ]
  },
  {
   "cell_type": "code",
   "execution_count": null,
   "metadata": {},
   "outputs": [],
   "source": [
    "# 蛇/食物\n",
    "    snake = Snake()\n",
    "    food = Food()\n",
    "    \n",
    "    while True:\n",
    "        for event in pygame.event.get():\n",
    "            if event.type == pygame.QUIT:\n",
    "                sys.exit()\n",
    "            if event.type == pygame.KEYDOWN:\n",
    "                snake.changedirection(event.key)\n",
    "                # 死后按space重新\n",
    "                if event.key == pygame.K_SPACE and isdead:\n",
    "                    return main()\n",
    "                \n",
    "            \n",
    "        screen.fill((255,255,255))\n",
    "        \n",
    "        # 画蛇身 / 每一步+1分\n",
    "        if not isdead:\n",
    "            scores+=1\n",
    "            snake.move()\n",
    "        for rect in snake.body:\n",
    "            pygame.draw.rect(screen,(20,220,39),rect,0)\n",
    "            \n",
    "        # 显示死亡文字\n",
    "        isdead = snake.isdead()\n",
    "        if isdead:\n",
    "            show_text(screen,(100,200),'YOU DEAD!',(227,29,18),False,100)\n",
    "            show_text(screen,(150,260),'press space to try again...',(0,0,22),False,30)\n",
    "            \n",
    "        # 食物处理 / 吃到+50分\n",
    "        # 当食物rect与蛇头重合,吃掉 -> Snake增加一个Node\n",
    "        if food.rect == snake.body[0]:\n",
    "            scores+=50\n",
    "            food.remove()\n",
    "            snake.addnode()\n",
    "        \n",
    "        # 食物投递\n",
    "        food.set()\n",
    "        pygame.draw.rect(screen,(136,0,21),food.rect,0)\n",
    "        \n",
    "        # 显示分数文字\n",
    "        show_text(screen,(50,500),'Scores: '+str(scores),(223,223,223))\n",
    "        \n",
    "        pygame.display.update()\n",
    "        clock.tick(10)\n",
    "    \n",
    "    \n",
    "if __name__ == '__main__':\n",
    "    main()"
   ]
  }
 ]
}