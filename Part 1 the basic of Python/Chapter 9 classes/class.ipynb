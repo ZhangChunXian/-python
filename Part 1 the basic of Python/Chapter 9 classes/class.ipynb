{
 "metadata": {
  "language_info": {
   "codemirror_mode": {
    "name": "ipython",
    "version": 3
   },
   "file_extension": ".py",
   "mimetype": "text/x-python",
   "name": "python",
   "nbconvert_exporter": "python",
   "pygments_lexer": "ipython3",
   "version": "3.8.0-final"
  },
  "orig_nbformat": 2,
  "kernelspec": {
   "name": "python38064bitd6f13548ce0f4a2d8509e600cde4312d",
   "display_name": "Python 3.8.0 64-bit"
  }
 },
 "nbformat": 4,
 "nbformat_minor": 2,
 "cells": [
  {
   "cell_type": "code",
   "execution_count": 1,
   "metadata": {},
   "outputs": [],
   "source": [
    "# Creating and using a Class\n",
    "    # Creating the Dog Class\n",
    "class Dog:\n",
    "    # A simple attempt to model a dog.\n",
    "\n",
    "    def __init__(self, name, age):\n",
    "        # Initialize name and age attributes.\n",
    "        self.name = name\n",
    "        self.age =age\n",
    "\n",
    "    def sit(self):\n",
    "        # Simulate a dog sitting in response to a command.\n",
    "        print(f\"{self.name} is now sitting.\")\n",
    "\n",
    "    def roll_over(self):\n",
    "        # Simulate rolling over in response to a command.\n",
    "        print(f\"{self.name} rolled over!\")"
   ]
  },
  {
   "cell_type": "code",
   "execution_count": 2,
   "metadata": {
    "tags": []
   },
   "outputs": [
    {
     "output_type": "stream",
     "name": "stdout",
     "text": "My dog's name is Willie.\nmy dog is 6 years old.\n"
    }
   ],
   "source": [
    "my_dog = Dog('Willie', 6)\n",
    "    # Accessing Attributes\n",
    "print(f\"My dog's name is {my_dog.name}.\")\n",
    "print(f\"my dog is {my_dog.age} years old.\")"
   ]
  },
  {
   "cell_type": "code",
   "execution_count": 3,
   "metadata": {
    "tags": []
   },
   "outputs": [
    {
     "output_type": "stream",
     "name": "stdout",
     "text": "Willie is now sitting.\nWillie rolled over!\n"
    }
   ],
   "source": [
    "    # Calling Methods\n",
    "my_dog.sit()\n",
    "my_dog.roll_over()"
   ]
  },
  {
   "cell_type": "code",
   "execution_count": 4,
   "metadata": {
    "tags": []
   },
   "outputs": [
    {
     "output_type": "stream",
     "name": "stdout",
     "text": "2019 Audi A4\n"
    }
   ],
   "source": [
    "# Working with Classes and Instances\n",
    "    # The Car Class\n",
    "class Car:\n",
    "    # A simple attempt to represent a car.\n",
    "\n",
    "    def __init__(self, make, model, year):\n",
    "        # Initialize attributes to describe a car.\n",
    "        self.make = make\n",
    "        self.model = model\n",
    "        self.year = year\n",
    "    \n",
    "    def get_descriptive_name(self):\n",
    "        # Return a neatly formatted descriptive name.\n",
    "        long_name = f\"{self.year} {self.make} {self.model}\"\n",
    "        return long_name.title()\n",
    "    \n",
    "my_new_car = Car('audi', 'a4', 2019)\n",
    "print(my_new_car.get_descriptive_name())"
   ]
  },
  {
   "cell_type": "code",
   "execution_count": 6,
   "metadata": {
    "tags": []
   },
   "outputs": [
    {
     "output_type": "stream",
     "name": "stdout",
     "text": "2019 Audi A4\nThis car has 0 miles on it.\n"
    }
   ],
   "source": [
    "# Setting a Default Value for an Attribute\n",
    "class Car:\n",
    "    # A simple attempt to represent a car.\n",
    "\n",
    "    def __init__(self, make, model, year):\n",
    "        # Initialize attributes to describe a car.\n",
    "        self.make = make\n",
    "        self.model = model\n",
    "        self.year = year\n",
    "        self.obometer_reading = 0\n",
    "\n",
    "    def get_descriptive_name(self):\n",
    "        # Return a neatly formatted descriptive name.\n",
    "        long_name = f\"{self.year} {self.make} {self.model}\"\n",
    "        return long_name.title()\n",
    "\n",
    "    def read_odometer(self):\n",
    "        # Print a statement showing the car's mileage\n",
    "        print(f\"This car has {self.obometer_reading} miles on it.\")\n",
    "\n",
    "my_new_car = Car('audi', 'a4', 2019)\n",
    "print(my_new_car.get_descriptive_name())\n",
    "my_new_car.read_odometer()"
   ]
  },
  {
   "cell_type": "code",
   "execution_count": 7,
   "metadata": {
    "tags": []
   },
   "outputs": [
    {
     "output_type": "stream",
     "name": "stdout",
     "text": "2019 Audi A4\nThis car has 23 miles on it.\n"
    }
   ],
   "source": [
    "# Modifying Attribute Values\n",
    "    # Modifying an Attribute Value Directly\n",
    "class Car:\n",
    "    # A simple attempt to represent a car.\n",
    "\n",
    "    def __init__(self, make, model, year):\n",
    "        # Initialize attributes to describe a car.\n",
    "        self.make = make\n",
    "        self.model = model\n",
    "        self.year = year\n",
    "        self.obometer_reading = 0\n",
    "\n",
    "    def get_descriptive_name(self):\n",
    "        # Return a neatly formatted descriptive name.\n",
    "        long_name = f\"{self.year} {self.make} {self.model}\"\n",
    "        return long_name.title()\n",
    "\n",
    "    def read_odometer(self):\n",
    "        # Print a statement showing the car's mileage\n",
    "        print(f\"This car has {self.obometer_reading} miles on it.\")\n",
    "\n",
    "my_new_car = Car('audi', 'a4', 2019)\n",
    "print(my_new_car.get_descriptive_name())\n",
    "my_new_car.obometer_reading = 23\n",
    "my_new_car.read_odometer()"
   ]
  },
  {
   "cell_type": "code",
   "execution_count": 27,
   "metadata": {
    "tags": []
   },
   "outputs": [
    {
     "output_type": "stream",
     "name": "stdout",
     "text": "This car has 23 miles on it.\n2019 Audi A4\n"
    }
   ],
   "source": [
    "    # P203 Modifying an Attribute's Value Through a Method\n",
    "    class Car:\n",
    "    # A simple attempt to represent a car.\n",
    "\n",
    "        def __init__(self, make, model, year):\n",
    "        # Initialize attributes to describe a car.\n",
    "            self.make = make\n",
    "            self.model = model\n",
    "            self.year = year\n",
    "            self.odometer_reading = 0\n",
    "\n",
    "        def get_descriptive_name(self):\n",
    "            # Return a neatly formatted descriptive name.\n",
    "            long_name = f\"{self.year} {self.make} {self.model}\"\n",
    "            return long_name.title()\n",
    "\n",
    "        def update_odometer(self, mileage):\n",
    "            # Set the odometer reading to the given value.\n",
    "            # Reject the change if it attempts to roll the odometer back.\n",
    "            if mileage >= self.odometer_reading:\n",
    "                self.odometer_reading = mileage\n",
    "            else:\n",
    "                print(\"You can't roll back an odometer!\")\n",
    "\n",
    "        def read_odometer(self):\n",
    "            # Print a statement showing the car's mileage\n",
    "            print(f\"This car has {self.odometer_reading} miles on it.\")\n",
    "        \n",
    "# 2\n",
    "my_new_car.update_odometer(23)\n",
    "my_new_car.read_odometer()\n",
    "\n",
    "my_new_car = Car('audi', 'a4', 2019)\n",
    "print(my_new_car.get_descriptive_name())"
   ]
  },
  {
   "cell_type": "code",
   "execution_count": 25,
   "metadata": {
    "tags": []
   },
   "outputs": [
    {
     "output_type": "stream",
     "name": "stdout",
     "text": "This car has 23 miles on it.\n"
    }
   ],
   "source": [
    "    # Incrementing an Attribute's Value Through a Method\n"
   ]
  },
  {
   "cell_type": "code",
   "execution_count": 32,
   "metadata": {
    "tags": []
   },
   "outputs": [
    {
     "output_type": "stream",
     "name": "stdout",
     "text": "2015 Subaru Outback\nThis car has 23500 miles on it.\nThis car has 23600 miles on it.\n"
    }
   ],
   "source": [
    "    class Car:\n",
    "    # A simple attempt to represent a car.\n",
    "\n",
    "        def __init__(self, make, model, year):\n",
    "        # Initialize attributes to describe a car.\n",
    "            self.make = make\n",
    "            self.model = model\n",
    "            self.year = year\n",
    "            self.odometer_reading = 0\n",
    "\n",
    "        def get_descriptive_name(self):\n",
    "            # Return a neatly formatted descriptive name.\n",
    "            long_name = f\"{self.year} {self.make} {self.model}\"\n",
    "            return long_name.title()\n",
    "\n",
    "        def update_odometer(self, mileage):\n",
    "            # Set the odometer reading to the given value.\n",
    "            # Reject the change if it attempts to roll the odometer back.\n",
    "            if mileage >= self.odometer_reading:\n",
    "                self.odometer_reading = mileage\n",
    "            else:\n",
    "                print(\"You can't roll back an odometer!\")\n",
    "        \n",
    "        def read_odometer(self):\n",
    "            # Print a statement showing the car's mileage\n",
    "            print(f\"This car has {self.odometer_reading} miles on it.\")\n",
    "        \n",
    "        def increment_odometer(self, miles):\n",
    "            # Add the given amout to the odometer reading.\n",
    "            self.odometer_reading += miles\n",
    "\n",
    "my_used_car = Car('subaru', 'outback', 2015)\n",
    "print(my_used_car.get_descriptive_name())\n",
    "\n",
    "my_used_car.update_odometer(23_500)\n",
    "my_used_car.read_odometer()\n",
    "\n",
    "my_used_car.increment_odometer(100)\n",
    "my_used_car.read_odometer()"
   ]
  },
  {
   "cell_type": "code",
   "execution_count": 37,
   "metadata": {
    "tags": []
   },
   "outputs": [
    {
     "output_type": "stream",
     "name": "stdout",
     "text": "2019 Tesla Model S\n"
    }
   ],
   "source": [
    "# Inheritance\n",
    "    # The__init__() Method for a Child Class\n",
    "class Car:\n",
    "    # A simple attempt to represent a car.\n",
    "\n",
    "    def __init__(self, make, model, year):\n",
    "        # Initialize attributes to describe a car.\n",
    "        self.make = make\n",
    "        self.model = model\n",
    "        self.year = year\n",
    "        self.odometer_reading = 0\n",
    "\n",
    "    def get_descriptive_name(self):\n",
    "            # Return a neatly formatted descriptive name.\n",
    "        long_name = f\"{self.year} {self.make} {self.model}\"\n",
    "        return long_name.title()\n",
    "\n",
    "    def update_odometer(self, mileage):\n",
    "            # Set the odometer reading to the given value.\n",
    "            # Reject the change if it attempts to roll the odometer back.\n",
    "        if mileage >= self.odometer_reading:\n",
    "            self.odometer_reading = mileage\n",
    "        else:\n",
    "            print(\"You can't roll back an odometer!\")\n",
    "        \n",
    "    def read_odometer(self):\n",
    "            # Print a statement showing the car's mileage\n",
    "        print(f\"This car has {self.odometer_reading} miles on it.\")\n",
    "        \n",
    "    def increment_odometer(self, miles):\n",
    "            # Add the given amout to the odometer reading.\n",
    "        self.odometer_reading += miles"
   ]
  },
  {
   "cell_type": "code",
   "execution_count": 38,
   "metadata": {
    "tags": []
   },
   "outputs": [
    {
     "output_type": "stream",
     "name": "stdout",
     "text": "2019 Tesla Model S\n"
    }
   ],
   "source": [
    "class ElectricCar(Car):\n",
    "            # Represent aspects of a car, specific to electric vehicles.\n",
    "            \n",
    "    def __init__(self, make, model, year):\n",
    "            # Initialize attributes of the parent class.\n",
    "            super().__init__(make, model, year)\n",
    "\n",
    "my_tesla = ElectricCar('tesla', 'model s', 2019)\n",
    "print(my_tesla.get_descriptive_name())"
   ]
  },
  {
   "cell_type": "code",
   "execution_count": 42,
   "metadata": {
    "tags": []
   },
   "outputs": [
    {
     "output_type": "stream",
     "name": "stdout",
     "text": "2019 Tesla Model S\nThis car has a 75-kWh battery.\n"
    }
   ],
   "source": [
    "# Defining Attributes and Methods for the Child Class\n",
    "class ElectricCar(Car):\n",
    "    # Represent aspects of a car, specific to electric vehicles.\n",
    "\n",
    "    def __init__(self, make, model, year):\n",
    "        # Initialize attributes of the parent class.\n",
    "        # Then initialize attributes specific to an electric car\n",
    "        super().__init__(make, model, year)\n",
    "        self.battery_size = 75\n",
    "\n",
    "    def describe_battery(self):\n",
    "         # Print a statement describing the battery size.\n",
    "         print(f\"This car has a {self.battery_size}-kWh battery.\")\n",
    "\n",
    "my_tesla = ElectricCar('tesla', 'model s', 2019)\n",
    "print(my_tesla.get_descriptive_name())\n",
    "my_tesla.describe_battery()"
   ]
  },
  {
   "cell_type": "code",
   "execution_count": 48,
   "metadata": {
    "tags": []
   },
   "outputs": [
    {
     "output_type": "stream",
     "name": "stdout",
     "text": "2019 Tesla Model S\nThis car has a 75-kWh battery.\nThis car can go about 260 miles on a full charge.\n"
    }
   ],
   "source": [
    "# P208 Overriding Methods from the Parent Class\n",
    "# Instances as Attributes\n",
    "class Battery:\n",
    "    # A simple attempt to model a battery for an electric car.\n",
    "\n",
    "    def __init__(self, battery_size = 75):\n",
    "        # Initialize the battery's attributes.\n",
    "        self.battery_size = battery_size\n",
    "\n",
    "    def describe_battery(self):\n",
    "        # Print a statement describing the battery size.\n",
    "        print(f\"This car has a {self.battery_size}-kWh battery.\")\n",
    "\n",
    "    def get_range(self):\n",
    "        # Print a statement about the range this battery provides.\n",
    "        if self.battery_size == 75:\n",
    "            range = 260\n",
    "        elif self.battery_size == 100:\n",
    "            range = 315\n",
    "\n",
    "        print(f\"This car can go about {range} miles on a full charge.\")\n",
    "\n",
    "class ElectricCar(Car):\n",
    "    # Represent aspects of a car, specific to electric vehicles.\n",
    "\n",
    "    def __init__(self, make, model, year):\n",
    "        # Initialize attributes of the parent class.\n",
    "        # Then initialize attributes specific to an electric car\n",
    "        super().__init__(make, model, year)\n",
    "        self.battery = Battery()\n",
    "\n",
    "my_tesla = ElectricCar('tesla', 'model s', 2019)\n",
    "\n",
    "print(my_tesla.get_descriptive_name())\n",
    "my_tesla.battery.describe_battery()\n",
    "\n",
    "my_tesla.battery.get_range()"
   ]
  },
  {
   "cell_type": "code",
   "execution_count": 1,
   "metadata": {},
   "outputs": [
    {
     "output_type": "execute_result",
     "data": {
      "text/plain": "0"
     },
     "metadata": {},
     "execution_count": 1
    }
   ],
   "source": [
    "# Importing Classes\n",
    "\n",
    "# Importing a Single Class\n",
    "left, top = (0,0)\n",
    "left"
   ]
  },
  {
   "cell_type": "code",
   "execution_count": 2,
   "metadata": {},
   "outputs": [
    {
     "output_type": "execute_result",
     "data": {
      "text/plain": "0"
     },
     "metadata": {},
     "execution_count": 2
    }
   ],
   "source": [
    "top"
   ]
  },
  {
   "cell_type": "code",
   "execution_count": null,
   "metadata": {},
   "outputs": [],
   "source": [
    "body = []"
   ]
  }
 ]
}