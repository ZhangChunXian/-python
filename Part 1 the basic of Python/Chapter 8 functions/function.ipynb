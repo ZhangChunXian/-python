{
 "metadata": {
  "language_info": {
   "codemirror_mode": {
    "name": "ipython",
    "version": 3
   },
   "file_extension": ".py",
   "mimetype": "text/x-python",
   "name": "python",
   "nbconvert_exporter": "python",
   "pygments_lexer": "ipython3",
   "version": "3.8.0-final"
  },
  "orig_nbformat": 2,
  "kernelspec": {
   "name": "python38064bitd6f13548ce0f4a2d8509e600cde4312d",
   "display_name": "Python 3.8.0 64-bit"
  }
 },
 "nbformat": 4,
 "nbformat_minor": 2,
 "cells": [
  {
   "cell_type": "code",
   "execution_count": 1,
   "metadata": {
    "tags": []
   },
   "outputs": [
    {
     "output_type": "stream",
     "name": "stdout",
     "text": "Hello!\n"
    }
   ],
   "source": [
    "# P168 Defining a Function\n",
    "def greet_user():\n",
    "    # \"\"\"\"Display a simple greeting.\"\"\"\n",
    "    print(\"Hello!\")\n",
    "\n",
    "greet_user()"
   ]
  },
  {
   "cell_type": "code",
   "execution_count": 1,
   "metadata": {
    "tags": []
   },
   "outputs": [
    {
     "output_type": "stream",
     "name": "stdout",
     "text": "Hello, Jesse!\n"
    }
   ],
   "source": [
    "# p168 Passing information to a Function\n",
    "def greet_user(username):\n",
    "    # Display a simple greeting.\n",
    "    print(f\"Hello, {username.title()}!\")\n",
    "greet_user('jesse')"
   ]
  },
  {
   "cell_type": "code",
   "execution_count": 2,
   "metadata": {
    "tags": []
   },
   "outputs": [
    {
     "output_type": "stream",
     "name": "stdout",
     "text": "\nI have a hamster.\nMy hamster's name is Harry.\n"
    }
   ],
   "source": [
    "# Passing Arguments\n",
    "    # Positional Arguments\n",
    "def describe_pet(animal_type, pet_name):\n",
    "    # Display information about a pet.\n",
    "    print(f\"\\nI have a {animal_type}.\")\n",
    "    print(f\"My {animal_type}'s name is {pet_name.title()}.\")\n",
    "\n",
    "describe_pet('hamster', 'harry')"
   ]
  },
  {
   "cell_type": "code",
   "execution_count": 3,
   "metadata": {
    "tags": []
   },
   "outputs": [
    {
     "output_type": "stream",
     "name": "stdout",
     "text": "\nI have a hamster.\nMy hamster's name is Harry.\n"
    }
   ],
   "source": [
    "# Keyword Arguments\n",
    "describe_pet(animal_type = 'hamster', pet_name = 'harry')"
   ]
  },
  {
   "cell_type": "code",
   "execution_count": 4,
   "metadata": {
    "tags": []
   },
   "outputs": [
    {
     "output_type": "stream",
     "name": "stdout",
     "text": "\nI have a dog.\nMy dog's name is Willie.\n"
    }
   ],
   "source": [
    "# default values\n",
    "# the funcition still use the positional augument\n",
    "def describe_pet(pet_name, animal_type='dog'):\n",
    "    # Display information about a pet.\n",
    "    print(f\"\\nI have a {animal_type}.\")\n",
    "    print(f\"My {animal_type}'s name is {pet_name.title()}.\")\n",
    "\n",
    "describe_pet(pet_name='Willie')"
   ]
  },
  {
   "cell_type": "code",
   "execution_count": 5,
   "metadata": {
    "tags": []
   },
   "outputs": [
    {
     "output_type": "stream",
     "name": "stdout",
     "text": "\nI have a dog.\nMy dog's name is Willie.\n"
    }
   ],
   "source": [
    "describe_pet('Willie')"
   ]
  },
  {
   "cell_type": "code",
   "execution_count": 9,
   "metadata": {
    "tags": []
   },
   "outputs": [
    {
     "output_type": "stream",
     "name": "stdout",
     "text": "Jimi Hendrix\n"
    }
   ],
   "source": [
    "# Return Values\n",
    "    # Return a Simple Value\n",
    "\n",
    "def get_formatted_name(first_name, last_name):\n",
    "    # Return a full name, neatly formatted.\n",
    "    full_name = f\"{first_name} {last_name}\"\n",
    "    return full_name.title()\n",
    "\n",
    "musician = get_formatted_name('jimi', 'hendrix')\n",
    "print(musician)"
   ]
  },
  {
   "cell_type": "code",
   "execution_count": 10,
   "metadata": {
    "tags": []
   },
   "outputs": [
    {
     "output_type": "stream",
     "name": "stdout",
     "text": "Jimi Hendrix\nJohn Lee Hooker\n"
    }
   ],
   "source": [
    "# Making an Argument Optional\n",
    "def get_formatted_name(first_name, last_name, middle_name=''):\n",
    "    \n",
    "    if middle_name:\n",
    "        full_name = f\"{first_name} {middle_name} {last_name}\"\n",
    "    else:\n",
    "        full_name = f\"{first_name} {last_name}\"\n",
    "    return full_name.title()\n",
    "\n",
    "musician = get_formatted_name('jimi', 'hendrix')\n",
    "print(musician)\n",
    "\n",
    "musician = get_formatted_name('john', 'hooker', 'lee')\n",
    "print(musician)"
   ]
  },
  {
   "cell_type": "code",
   "execution_count": 11,
   "metadata": {
    "tags": []
   },
   "outputs": [
    {
     "output_type": "stream",
     "name": "stdout",
     "text": "{'first': 'jimi', 'last': 'hendrix'}\n"
    }
   ],
   "source": [
    "# P178 Returning a Dictionary\n",
    "def bulid_person(first_name, last_name):\n",
    "    # Returning a dictionary of information about a person.\n",
    "    person = {'first': first_name, 'last': last_name}\n",
    "    return person\n",
    "\n",
    "musician = bulid_person('jimi', 'hendrix')\n",
    "print(musician)"
   ]
  },
  {
   "cell_type": "code",
   "execution_count": 12,
   "metadata": {
    "tags": []
   },
   "outputs": [
    {
     "output_type": "stream",
     "name": "stdout",
     "text": "{'first': 'jimi', 'last': 'hendrix', 'age': 27}\n"
    }
   ],
   "source": [
    "# allow you to store a person's age as well\n",
    "def build_person(first_name, last_name, age=None):\n",
    "\n",
    "    person = {'first': first_name, 'last': last_name}\n",
    "    if age:\n",
    "        person['age'] = age\n",
    "    return person\n",
    "musician = build_person('jimi', 'hendrix', age=27)\n",
    "print(musician)"
   ]
  },
  {
   "cell_type": "code",
   "execution_count": 13,
   "metadata": {
    "tags": []
   },
   "outputs": [
    {
     "output_type": "stream",
     "name": "stdout",
     "text": "\nPlease tell me your name:\n(enter 'q' at any time to quit)\n\n Hello, Fdksn Adjl!\n\nPlease tell me your name:\n(enter 'q' at any time to quit)\n\n Hello, Anjlfj Ajldjf!\n\nPlease tell me your name:\n(enter 'q' at any time to quit)\n"
    }
   ],
   "source": [
    "# P179 Using a Function with a while loop\n",
    "def get_formatted_name(first_name, last_name):\n",
    "    # Return a full name, neatly formatted.\n",
    "    full_name = f\"{first_name} {last_name}\"\n",
    "    return full_name.title()\n",
    "\n",
    "# This is an infinite loop!\n",
    "while True:\n",
    "    print(\"\\nPlease tell me your name:\")\n",
    "    print(\"(enter 'q' at any time to quit)\")\n",
    "\n",
    "    f_name = input(\"First name:\")\n",
    "\n",
    "    if f_name == 'q':\n",
    "        break\n",
    "\n",
    "    l_name = input(\"Last name:\")\n",
    "    if l_name == 'q':\n",
    "        break\n",
    "\n",
    "    formatted_name = get_formatted_name(f_name, l_name)\n",
    "    print(f\"\\n Hello, {formatted_name}!\")"
   ]
  },
  {
   "cell_type": "code",
   "execution_count": 14,
   "metadata": {
    "tags": []
   },
   "outputs": [
    {
     "output_type": "stream",
     "name": "stdout",
     "text": "Hello, Hannah!\nHello, Ty!\nHello, Margot!\n"
    }
   ],
   "source": [
    "# Passing a List\n",
    "def greet_users(names):\n",
    "    # Print a simple greeting to each user in the list\n",
    "    for name in names:\n",
    "        msg = f\"Hello, {name.title()}!\"\n",
    "        print(msg)\n",
    "\n",
    "usernames = ['Hannah', 'ty', 'margot']\n",
    "greet_users(usernames)"
   ]
  },
  {
   "cell_type": "code",
   "execution_count": 15,
   "metadata": {
    "tags": []
   },
   "outputs": [
    {
     "output_type": "stream",
     "name": "stdout",
     "text": "Printing model: dodecahedron\nPrinting model: robot pendant\nPrinting model: phone case\ndodecahedron\nrobot pendant\nphone case\n"
    }
   ],
   "source": [
    "# Modifying a List in a Function\n",
    "# Start with some designs that need to be printed.\n",
    "unprinted_designs = ['phone case', 'robot pendant', 'dodecahedron']\n",
    "completed_models = []\n",
    "\n",
    "# Simulate printing each design, until none are left.\n",
    "# Move each design to completed_models after printing.\n",
    "while unprinted_designs:\n",
    "    current_design = unprinted_designs.pop()\n",
    "    print(f\"Printing model: {current_design}\")\n",
    "    completed_models.append(current_design)\n",
    "\n",
    "for completed_model in completed_models:\n",
    "    print(completed_model)"
   ]
  },
  {
   "cell_type": "code",
   "execution_count": 18,
   "metadata": {
    "tags": []
   },
   "outputs": [
    {
     "output_type": "stream",
     "name": "stdout",
     "text": "Printing model: dodecahedron\nPrinting model: robot pendant\nPrinting model: phone case\ndodecahedron\nrobot pendant\nphone case\n"
    }
   ],
   "source": [
    "def print_models(unprinted_designs, completed_models):\n",
    "    # Simulate printing each design, until none are left.\n",
    "    # Move each design to completed_models after printing.\n",
    "    while unprinted_designs:\n",
    "        current_design = unprinted_designs.pop()\n",
    "        print(f\"Printing model: {current_design}\")\n",
    "        completed_models.append(current_design)\n",
    "\n",
    "    for completed_model in completed_models:\n",
    "        print(completed_model)\n",
    "\n",
    "unprinted_designs = ['phone case', 'robot pendant', 'dodecahedron']\n",
    "completed_models = []\n",
    "\n",
    "print_models(unprinted_designs, completed_models)"
   ]
  },
  {
   "cell_type": "code",
   "execution_count": 19,
   "metadata": {},
   "outputs": [
    {
     "output_type": "error",
     "ename": "TypeError",
     "evalue": "'list' object is not callable",
     "traceback": [
      "\u001b[1;31m---------------------------------------------------------------------------\u001b[0m",
      "\u001b[1;31mTypeError\u001b[0m                                 Traceback (most recent call last)",
      "\u001b[1;32m<ipython-input-19-5a5498b69026>\u001b[0m in \u001b[0;36m<module>\u001b[1;34m\u001b[0m\n\u001b[0;32m     14\u001b[0m \u001b[0mcompleted_models\u001b[0m \u001b[1;33m=\u001b[0m \u001b[1;33m[\u001b[0m\u001b[1;33m]\u001b[0m\u001b[1;33m\u001b[0m\u001b[1;33m\u001b[0m\u001b[0m\n\u001b[0;32m     15\u001b[0m \u001b[1;33m\u001b[0m\u001b[0m\n\u001b[1;32m---> 16\u001b[1;33m \u001b[0munprinted_designs\u001b[0m\u001b[1;33m(\u001b[0m\u001b[0munprinted_designs\u001b[0m\u001b[1;33m[\u001b[0m\u001b[1;33m:\u001b[0m\u001b[1;33m]\u001b[0m\u001b[1;33m)\u001b[0m\u001b[1;33m\u001b[0m\u001b[1;33m\u001b[0m\u001b[0m\n\u001b[0m\u001b[0;32m     17\u001b[0m \u001b[0mprint_models\u001b[0m\u001b[1;33m(\u001b[0m\u001b[0munprinted_designs\u001b[0m\u001b[1;33m[\u001b[0m\u001b[1;33m:\u001b[0m\u001b[1;33m]\u001b[0m\u001b[1;33m,\u001b[0m \u001b[0mcompleted_models\u001b[0m\u001b[1;33m)\u001b[0m\u001b[1;33m\u001b[0m\u001b[1;33m\u001b[0m\u001b[0m\n",
      "\u001b[1;31mTypeError\u001b[0m: 'list' object is not callable"
     ]
    }
   ],
   "source": [
    "# Preventing a Function from Modifying a List\n"
   ]
  },
  {
   "cell_type": "code",
   "execution_count": 1,
   "metadata": {
    "tags": []
   },
   "outputs": [
    {
     "output_type": "stream",
     "name": "stdout",
     "text": "('pepperoni',)\n('mushrooms', 'green peppers', 'extra cheese')\n"
    }
   ],
   "source": [
    "# Passing an Arbitrary Number of Arguments\n",
    "def make_pizza(*toppings):\n",
    "    # Print the list of toppings that have been requested.\n",
    "    print(toppings)\n",
    "\n",
    "make_pizza('pepperoni')\n",
    "make_pizza('mushrooms', 'green peppers', 'extra cheese')"
   ]
  },
  {
   "cell_type": "code",
   "execution_count": 3,
   "metadata": {
    "tags": []
   },
   "outputs": [
    {
     "output_type": "stream",
     "name": "stdout",
     "text": "\nMaking a pizza with the following toppings:\n- pepperoni\n\nMaking a pizza with the following toppings:\n- mushrooms\n- green peppers\n- extra cheese\n"
    }
   ],
   "source": [
    "def make_pizza(*toppings):\n",
    "    # Summarize the pizza we are about to make.\n",
    "    print(\"\\nMaking a pizza with the following toppings:\")\n",
    "    for topping in toppings:\n",
    "        print(f\"- {topping}\")\n",
    "\n",
    "make_pizza('pepperoni')\n",
    "make_pizza('mushrooms', 'green peppers', 'extra cheese')"
   ]
  },
  {
   "cell_type": "code",
   "execution_count": 4,
   "metadata": {
    "tags": []
   },
   "outputs": [
    {
     "output_type": "stream",
     "name": "stdout",
     "text": "\nMaking a 16-inch pizza with the following topping:\n- pepperoni\n\nMaking a 12-inch pizza with the following topping:\n- mushrooms\n- green peppers\n- extra cheese\n"
    }
   ],
   "source": [
    "# Mixing Positional and Arbitrary Arguments\n",
    "def make_pizza(size, *toppings):\n",
    "    # Summarize the pizza we are about to make.\n",
    "    print(f\"\\nMaking a {size}-inch pizza with the following topping:\")\n",
    "    for topping in toppings:\n",
    "        print(f\"- {topping}\")\n",
    "\n",
    "make_pizza(16, 'pepperoni')\n",
    "make_pizza(12, 'mushrooms', 'green peppers', 'extra cheese')"
   ]
  },
  {
   "cell_type": "code",
   "execution_count": 5,
   "metadata": {
    "tags": []
   },
   "outputs": [
    {
     "output_type": "stream",
     "name": "stdout",
     "text": "{'location': 'princeton', 'field': 'physics', 'first_name': 'albert', 'last_name': 'einstein'}\n"
    }
   ],
   "source": [
    "# P186 Using Arbitrary Keyword Arguments\n",
    "def build_profile(first, last, **user_info):\n",
    "    # Build a dictionary containing everything we know about a user.\n",
    "    user_info['first_name'] = first\n",
    "    user_info['last_name'] = last\n",
    "    return user_info\n",
    "\n",
    "user_profile = build_profile('albert', 'einstein', location='princeton',field='physics') \n",
    "print(user_profile)"
   ]
  },
  {
   "cell_type": "code",
   "execution_count": 5,
   "metadata": {
    "tags": []
   },
   "outputs": [
    {
     "output_type": "stream",
     "name": "stdout",
     "text": "The examination will start from : 21/8/2014\n"
    }
   ],
   "source": [
    "exam_st_date = (21, 8, 2014)\n",
    "print(\"The examination will start from : %i/%i/%i\"%exam_st_date)"
   ]
  },
  {
   "cell_type": "code",
   "execution_count": null,
   "metadata": {},
   "outputs": [],
   "source": []
  }
 ]
}