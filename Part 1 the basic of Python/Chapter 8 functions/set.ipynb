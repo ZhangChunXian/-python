{
 "metadata": {
  "language_info": {
   "codemirror_mode": {
    "name": "ipython",
    "version": 3
   },
   "file_extension": ".py",
   "mimetype": "text/x-python",
   "name": "python",
   "nbconvert_exporter": "python",
   "pygments_lexer": "ipython3",
   "version": "3.8.0-final"
  },
  "orig_nbformat": 2,
  "kernelspec": {
   "name": "python38064bitd6f13548ce0f4a2d8509e600cde4312d",
   "display_name": "Python 3.8.0 64-bit"
  }
 },
 "nbformat": 4,
 "nbformat_minor": 2,
 "cells": [
  {
   "cell_type": "code",
   "execution_count": 2,
   "metadata": {
    "tags": []
   },
   "outputs": [
    {
     "output_type": "stream",
     "name": "stdout",
     "text": "{'Google', 'Baidu', 'Facebook', 'Zhihu', 'Taobao'}\n"
    }
   ],
   "source": [
    "# 创建一个集合\n",
    "sites = {'Google', 'Taobao', 'Facebook', 'Zhihu', 'Baidu', 'Zhihu'}\n",
    "\n",
    "# 输出集合，重复的元素会被自动去除\n",
    "print(sites)"
   ]
  },
  {
   "cell_type": "code",
   "execution_count": 3,
   "metadata": {
    "tags": []
   },
   "outputs": [
    {
     "output_type": "stream",
     "name": "stdout",
     "text": "{'Google', 'Facebook', 'Zhihu', 'Taobao', 'Baidu'}\n"
    }
   ],
   "source": [
    "# 第二种创建结合的方式\n",
    "sites = set({'Google', 'Taobao', 'Facebook', 'Zhihu', 'Baidu', 'Zhihu'})\n",
    "\n",
    "print(sites)"
   ]
  },
  {
   "cell_type": "code",
   "execution_count": 4,
   "metadata": {
    "tags": []
   },
   "outputs": [
    {
     "output_type": "stream",
     "name": "stdout",
     "text": "Runoob is not in the site\n"
    }
   ],
   "source": [
    "# 成员测试\n",
    "if 'Runoob' in sites:\n",
    "    print(\"Runoob is in the set\")\n",
    "else:\n",
    "    print(\"Runoob is not in the site\")"
   ]
  },
  {
   "cell_type": "code",
   "execution_count": 5,
   "metadata": {
    "tags": []
   },
   "outputs": [
    {
     "output_type": "stream",
     "name": "stdout",
     "text": "{'a', 'c', 'r', 'd', 'b'}\n{'r', 'd', 'b'}\n{'a', 'c', 'r', 'm', 'd', 'l', 'z', 'b'}\n{'a', 'c'}\n{'m', 'd', 'l', 'r', 'z', 'b'}\n"
    }
   ],
   "source": [
    "# set可以进行集合运算\n",
    "a = set('abracadabra')\n",
    "b = set('alacazam')\n",
    "\n",
    "print(a)\n",
    "\n",
    "print(a - b)    # a和b的差集\n",
    "\n",
    "print(a | b)    # a和b的并集  \n",
    "\n",
    "print(a & b)    # a和b的并集\n",
    "\n",
    "print(a ^ b)    # a和b中不同时存在的元素"
   ]
  },
  {
   "cell_type": "code",
   "execution_count": null,
   "metadata": {},
   "outputs": [],
   "source": []
  }
 ]
}