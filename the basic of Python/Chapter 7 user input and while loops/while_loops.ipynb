{
 "metadata": {
  "language_info": {
   "codemirror_mode": {
    "name": "ipython",
    "version": 3
   },
   "file_extension": ".py",
   "mimetype": "text/x-python",
   "name": "python",
   "nbconvert_exporter": "python",
   "pygments_lexer": "ipython3",
   "version": "3.8.0-final"
  },
  "orig_nbformat": 2,
  "kernelspec": {
   "name": "python38064bitd6f13548ce0f4a2d8509e600cde4312d",
   "display_name": "Python 3.8.0 64-bit"
  }
 },
 "nbformat": 4,
 "nbformat_minor": 2,
 "cells": [
  {
   "cell_type": "code",
   "execution_count": 1,
   "metadata": {
    "tags": []
   },
   "outputs": [
    {
     "output_type": "stream",
     "name": "stdout",
     "text": "1\n2\n3\n4\n5\n"
    }
   ],
   "source": [
    "# Introducing while loops\n",
    "current_number = 1\n",
    "while current_number <= 5:\n",
    "    print(current_number)\n",
    "    current_number += 1"
   ]
  },
  {
   "cell_type": "code",
   "execution_count": 3,
   "metadata": {
    "tags": []
   },
   "outputs": [
    {
     "output_type": "stream",
     "name": "stdout",
     "text": "zhang\nienjal\nakjfl\nailfj\nadfnkl\nquit\n"
    }
   ],
   "source": [
    "# Letting the User Choose When to Quit\n",
    "prompt = \"\\nTell me something, and I will repeat it back to you:\"\n",
    "prompt += \"\\nEnter 'quit' to end the program.\"\n",
    "\n",
    "message = \"\"\n",
    "while message != 'quit':\n",
    "    message = input(prompt)\n",
    "    print(message)"
   ]
  },
  {
   "cell_type": "code",
   "execution_count": 5,
   "metadata": {
    "tags": []
   },
   "outputs": [
    {
     "output_type": "stream",
     "name": "stdout",
     "text": "zhang\ndjiafj\nadlfaj\ndjal\n"
    }
   ],
   "source": [
    "# Using a Flag\n",
    "prompt = \"\\nTell me something, and I will repeat it back to you:\"\n",
    "prompt += \"\\nEnter 'quit' to end the program.\"\n",
    "\n",
    "active = True\n",
    "while active:\n",
    "    message = input(prompt)\n",
    "\n",
    "    if message == 'quit':\n",
    "        active = False\n",
    "    else:\n",
    "        print(message)"
   ]
  },
  {
   "cell_type": "code",
   "execution_count": 8,
   "metadata": {
    "tags": []
   },
   "outputs": [
    {
     "output_type": "stream",
     "name": "stdout",
     "text": "I'd love to go to Dakjf!\nI'd love to go to Aldsjfa!\nI'd love to go to Laijl!\nI'd love to go to Adfjld!\n"
    }
   ],
   "source": [
    "# Using break to exit\n",
    "prompt = \"\\nTell me something, and I will repeat it back to you:\"\n",
    "prompt += \"\\nEnter 'quit' to end the program.\"\n",
    "\n",
    "while True:\n",
    "    city = input(prompt)\n",
    "\n",
    "    if city == 'quit':\n",
    "        break\n",
    "    else:\n",
    "        print(f\"I'd love to go to {city.title()}!\")"
   ]
  },
  {
   "cell_type": "code",
   "execution_count": 1,
   "metadata": {
    "tags": []
   },
   "outputs": [
    {
     "output_type": "stream",
     "name": "stdout",
     "text": "1\n3\n5\n7\n9\n"
    }
   ],
   "source": [
    "# Using continue in a Loop\n",
    "current_number = 0\n",
    "while current_number < 10:\n",
    "    current_number += 1\n",
    "    if current_number % 2 ==0:\n",
    "        continue\n",
    "    print(current_number)"
   ]
  },
  {
   "cell_type": "code",
   "execution_count": 4,
   "metadata": {
    "tags": []
   },
   "outputs": [
    {
     "output_type": "stream",
     "name": "stdout",
     "text": "Verifying user:Candace\nVerifying user:Brian\nVerifying user:Alice\n"
    }
   ],
   "source": [
    "# Using a while loop with lists and dictionaries\n",
    "    # Moving items from one list to another\n",
    "\n",
    "# Start with users that need to be verified,\n",
    "# and an empty list to hold confirmed users.\n",
    "unconfirmed_users = ['alice', 'brian', 'candace']\n",
    "confirmed_users = []\n",
    "\n",
    "# Verify each user until there are no more confirmed users.\n",
    "# Move each verified into the list of confirmed users.\n",
    "while unconfirmed_users:\n",
    "    current_user = unconfirmed_users.pop()\n",
    "\n",
    "    print(f\"Verifying user:{current_user.title()}\")\n",
    "    confirmed_users.append(current_user)"
   ]
  },
  {
   "cell_type": "code",
   "execution_count": 5,
   "metadata": {
    "tags": []
   },
   "outputs": [
    {
     "output_type": "stream",
     "name": "stdout",
     "text": "\nThe following users have been confirmed:\nCandace\nBrian\nAlice\n"
    }
   ],
   "source": [
    "# Display all confirmed users\n",
    "print(\"\\nThe following users have been confirmed:\")\n",
    "for confirmed_user in confirmed_users:\n",
    "    print(confirmed_user.title())"
   ]
  },
  {
   "cell_type": "code",
   "execution_count": 7,
   "metadata": {
    "tags": []
   },
   "outputs": [
    {
     "output_type": "stream",
     "name": "stdout",
     "text": "['dog', 'cat', 'dog', 'goldfish', 'cat', 'rabbit', 'cat']\n['dog', 'dog', 'goldfish', 'rabbit']\n"
    }
   ],
   "source": [
    "# Removing All Instances of Specific Values from a list\n",
    "pets = ['dog', 'cat', 'dog', 'goldfish', 'cat', 'rabbit', 'cat']\n",
    "print(pets)\n",
    "\n",
    "while 'cat' in pets:\n",
    "    pets.remove('cat')\n",
    "print(pets)"
   ]
  },
  {
   "cell_type": "code",
   "execution_count": 10,
   "metadata": {
    "tags": []
   },
   "outputs": [
    {
     "output_type": "stream",
     "name": "stdout",
     "text": "\n--- Poll Results ---\njfdlkn would like to climb no.\nnlknz would like to climb no.\n"
    }
   ],
   "source": [
    "# Filling a Dictionary with User Input\n",
    "responses = {}\n",
    "\n",
    "# Set a flag to indicate that polling is active.\n",
    "polling_active = True\n",
    "while polling_active:\n",
    "    # Prompt for person's name and response.\n",
    "    name = input(\"\\n what is your name?\")\n",
    "    response = input(\"Which mountain would you like to climb someday?\")\n",
    "\n",
    "    # Store the reponse in the dictionary.\n",
    "    responses[name] = response\n",
    "\n",
    "    # Find out if anyone else is going to take the poll.\n",
    "    repeat = input(\"Would you like to let another person respond? (yes/ no)\")\n",
    "    if repeat == 'no':\n",
    "        polling_active = False\n",
    "\n",
    "# polling is complete. Show the results.\n",
    "print(\"\\n--- Poll Results ---\")\n",
    "for name, responses in responses.items():\n",
    "    print(f\"{name} would like to climb {response}.\")"
   ]
  },
  {
   "cell_type": "code",
   "execution_count": null,
   "metadata": {},
   "outputs": [],
   "source": []
  }
 ]
}