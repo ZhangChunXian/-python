{
 "metadata": {
  "language_info": {
   "codemirror_mode": {
    "name": "ipython",
    "version": 3
   },
   "file_extension": ".py",
   "mimetype": "text/x-python",
   "name": "python",
   "nbconvert_exporter": "python",
   "pygments_lexer": "ipython3",
   "version": "3.8.0-final"
  },
  "orig_nbformat": 2,
  "kernelspec": {
   "name": "python38064bitd6f13548ce0f4a2d8509e600cde4312d",
   "display_name": "Python 3.8.0 64-bit"
  }
 },
 "nbformat": 4,
 "nbformat_minor": 2,
 "cells": [
  {
   "cell_type": "code",
   "execution_count": 43,
   "metadata": {
    "tags": []
   },
   "outputs": [
    {
     "output_type": "stream",
     "name": "stdout",
     "text": "['trek', 'cannondale', 'redline', 'specialized']\n"
    }
   ],
   "source": [
    "#在Python中，用[]来表示列表，列表中的元素用，分隔\n",
    "bicycles=['trek','cannondale','redline','specialized']\n",
    "print(bicycles)"
   ]
  },
  {
   "cell_type": "code",
   "execution_count": 44,
   "metadata": {
    "tags": []
   },
   "outputs": [
    {
     "output_type": "stream",
     "name": "stdout",
     "text": "trek\n"
    }
   ],
   "source": [
    "#用方括号中添加你所要表达的列表元素序号来索引元素\n",
    "print(bicycles[0])"
   ]
  },
  {
   "cell_type": "code",
   "execution_count": 45,
   "metadata": {
    "tags": []
   },
   "outputs": [
    {
     "output_type": "stream",
     "name": "stdout",
     "text": "Trek\n"
    }
   ],
   "source": [
    "print(bicycles[0].title())"
   ]
  },
  {
   "cell_type": "code",
   "execution_count": 46,
   "metadata": {
    "tags": []
   },
   "outputs": [
    {
     "output_type": "stream",
     "name": "stdout",
     "text": "specialized\ncannondale\n"
    }
   ],
   "source": [
    "#在Python中用-1表示列表中最后一个元素的顺序，用-2表示倒数第二个元素的顺序，以此类推\n",
    "print(bicycles[-1])\n",
    "print(bicycles[-3])"
   ]
  },
  {
   "cell_type": "code",
   "execution_count": 47,
   "metadata": {
    "tags": []
   },
   "outputs": [
    {
     "output_type": "stream",
     "name": "stdout",
     "text": "My first bicyle was a Trek.\n"
    }
   ],
   "source": [
    "message=f\"My first bicyle was a {bicycles[0].title()}.\"\n",
    "print(message)"
   ]
  },
  {
   "cell_type": "code",
   "execution_count": 48,
   "metadata": {
    "tags": []
   },
   "outputs": [
    {
     "output_type": "stream",
     "name": "stdout",
     "text": "['ducati', 'yamaha', 'suzuki']\n"
    }
   ],
   "source": [
    "#改变列表中元素\n",
    "motorcycles=['honda','yamaha','suzuki']\n",
    "motorcycles[0]='ducati'\n",
    "print(motorcycles)"
   ]
  },
  {
   "cell_type": "code",
   "execution_count": 49,
   "metadata": {
    "tags": []
   },
   "outputs": [
    {
     "output_type": "stream",
     "name": "stdout",
     "text": "['ducati', 'yamaha', 'suzuki', 'ducati']\n"
    }
   ],
   "source": [
    "#在列表中添加元素\n",
    "#1.在列表末尾添加元素\n",
    "motorcycles.append('ducati')\n",
    "print(motorcycles)"
   ]
  },
  {
   "cell_type": "code",
   "execution_count": 50,
   "metadata": {
    "tags": []
   },
   "outputs": [
    {
     "output_type": "stream",
     "name": "stdout",
     "text": "['ducati', 'zhang', 'yamaha', 'suzuki', 'ducati']\n"
    }
   ],
   "source": [
    "#在列表中的任意位置添加元素，index指的是添加元素在添加后所在的位置\n",
    "motorcycles.insert(1,'zhang')\n",
    "print(motorcycles)"
   ]
  },
  {
   "cell_type": "code",
   "execution_count": 51,
   "metadata": {
    "tags": []
   },
   "outputs": [
    {
     "output_type": "stream",
     "name": "stdout",
     "text": "['zhang', 'yamaha', 'suzuki', 'ducati']\n"
    }
   ],
   "source": [
    "#在列表中删除元素\n",
    "del motorcycles[0]\n",
    "print(motorcycles)"
   ]
  },
  {
   "cell_type": "code",
   "execution_count": 52,
   "metadata": {
    "tags": []
   },
   "outputs": [
    {
     "output_type": "stream",
     "name": "stdout",
     "text": "['zhang', 'yamaha', 'suzuki']\nducati\n"
    }
   ],
   "source": [
    "#在列表中删除最后一个元素，并将给元素储存在其他变量里\n",
    "poped_motorcycles=motorcycles.pop()\n",
    "print(motorcycles)\n",
    "print(poped_motorcycles)"
   ]
  },
  {
   "cell_type": "code",
   "execution_count": 53,
   "metadata": {
    "tags": []
   },
   "outputs": [
    {
     "output_type": "stream",
     "name": "stdout",
     "text": "The first motorcycle I owned was a Zhang.\n"
    }
   ],
   "source": [
    "#在列表中删除任意位置的元素，并将该元素储存在其他变量里\n",
    "first_owned=motorcycles.pop(0)\n",
    "print(f\"The first motorcycle I owned was a {first_owned.title()}.\")"
   ]
  },
  {
   "cell_type": "code",
   "execution_count": 54,
   "metadata": {
    "tags": []
   },
   "outputs": [
    {
     "output_type": "stream",
     "name": "stdout",
     "text": "['honda', 'yamaha', 'suzuki']\n"
    }
   ],
   "source": [
    "#在列表中去除确定值的元素\n",
    "#remove方法只能去掉与该值相同的第一个元素，如果该元素在列表中多次出现，则需要使用循环来解决这个问题\n",
    "motorcycles=['honda','yamaha','suzuki','ducati']\n",
    "motorcycles.remove('ducati')\n",
    "print(motorcycles)"
   ]
  },
  {
   "cell_type": "code",
   "execution_count": 55,
   "metadata": {
    "tags": []
   },
   "outputs": [
    {
     "output_type": "stream",
     "name": "stdout",
     "text": "['audi', 'bmw', 'subaru', 'toyota']\n"
    }
   ],
   "source": [
    "# Sorting a list permanently with the sort() Method\n",
    "# Store the list alphabetically\n",
    "cars=['bmw','audi','toyota','subaru']\n",
    "cars.sort()\n",
    "print(cars)"
   ]
  },
  {
   "cell_type": "code",
   "execution_count": 56,
   "metadata": {
    "tags": []
   },
   "outputs": [
    {
     "output_type": "stream",
     "name": "stdout",
     "text": "['toyota', 'subaru', 'bmw', 'audi']\n"
    }
   ],
   "source": [
    "# Sort list in reverse alphabetical order\n",
    "cars=['bmw','audi','toyota','subaru']\n",
    "cars.sort(reverse=True)\n",
    "print(cars)"
   ]
  },
  {
   "cell_type": "code",
   "execution_count": 57,
   "metadata": {
    "tags": []
   },
   "outputs": [
    {
     "output_type": "stream",
     "name": "stdout",
     "text": "['audi', 'bmw', 'subaru', 'toyota']\n['bmw', 'audi', 'toyota', 'subaru']\n"
    }
   ],
   "source": [
    "# Sorting a list temporarily with the sorted() function\n",
    "cars=['bmw','audi','toyota','subaru']\n",
    "print(sorted(cars))\n",
    "print(cars)"
   ]
  },
  {
   "cell_type": "code",
   "execution_count": 60,
   "metadata": {
    "tags": []
   },
   "outputs": [
    {
     "output_type": "stream",
     "name": "stdout",
     "text": "['toyota', 'subaru', 'bmw', 'audi']\n"
    }
   ],
   "source": [
    "print(sorted(cars,reverse=True))"
   ]
  },
  {
   "cell_type": "code",
   "execution_count": 58,
   "metadata": {
    "tags": []
   },
   "outputs": [
    {
     "output_type": "stream",
     "name": "stdout",
     "text": "['subaru', 'toyota', 'audi', 'bmw']\n"
    }
   ],
   "source": [
    "# printing a list in reverse order\n",
    "cars=['bmw','audi','toyota','subaru']\n",
    "cars.reverse()\n",
    "print(cars)"
   ]
  },
  {
   "cell_type": "code",
   "execution_count": 59,
   "metadata": {},
   "outputs": [
    {
     "output_type": "execute_result",
     "data": {
      "text/plain": "4"
     },
     "metadata": {},
     "execution_count": 59
    }
   ],
   "source": [
    "# Finding the length of a list\n",
    "cars=['bmw','audi','toyota','subaru']\n",
    "len(cars)"
   ]
  },
  {
   "cell_type": "code",
   "execution_count": null,
   "metadata": {},
   "outputs": [],
   "source": []
  }
 ]
}