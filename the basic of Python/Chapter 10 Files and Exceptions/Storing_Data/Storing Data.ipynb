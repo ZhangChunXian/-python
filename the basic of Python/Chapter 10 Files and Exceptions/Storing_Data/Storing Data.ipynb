{
 "metadata": {
  "language_info": {
   "codemirror_mode": {
    "name": "ipython",
    "version": 3
   },
   "file_extension": ".py",
   "mimetype": "text/x-python",
   "name": "python",
   "nbconvert_exporter": "python",
   "pygments_lexer": "ipython3",
   "version": "3.8.0-final"
  },
  "orig_nbformat": 2,
  "kernelspec": {
   "name": "python38064bitd6f13548ce0f4a2d8509e600cde4312d",
   "display_name": "Python 3.8.0 64-bit"
  }
 },
 "nbformat": 4,
 "nbformat_minor": 2,
 "cells": [
  {
   "cell_type": "code",
   "execution_count": 1,
   "metadata": {},
   "outputs": [],
   "source": [
    "# Storing Data\n",
    "# Using json.dump() and json.load()\n",
    "import json\n",
    "\n",
    "numbers = [2, 3, 5, 7, 11, 13]\n",
    "\n",
    "filename = 'numbers.json'\n",
    "with open(filename, 'w') as f:\n",
    "    json.dump(numbers, f)"
   ]
  },
  {
   "cell_type": "code",
   "execution_count": 2,
   "metadata": {
    "tags": []
   },
   "outputs": [
    {
     "output_type": "stream",
     "name": "stdout",
     "text": "[2, 3, 5, 7, 11, 13]\n"
    }
   ],
   "source": [
    "# use json.load() to read the list back into memory\n",
    "\n",
    "import json\n",
    "\n",
    "filename = 'numbers.json'\n",
    "with open(filename) as f:\n",
    "    numbers = json.load(f)\n",
    "\n",
    "print(numbers)"
   ]
  },
  {
   "cell_type": "code",
   "execution_count": 1,
   "metadata": {
    "tags": []
   },
   "outputs": [
    {
     "output_type": "stream",
     "name": "stdout",
     "text": "We'll remember you when you comeback, Eric!\n"
    }
   ],
   "source": [
    "# Saving and Reading User-Genetated Data\n",
    "\n",
    "import json\n",
    "\n",
    "username = input(\"What is your name?\")\n",
    "\n",
    "filename = 'usernames.json'\n",
    "with open(filename, 'w') as f:\n",
    "    json.dump(username, f)\n",
    "    print(f\"We'll remember you when you comeback, {username}!\")"
   ]
  },
  {
   "cell_type": "code",
   "execution_count": 2,
   "metadata": {
    "tags": []
   },
   "outputs": [
    {
     "output_type": "stream",
     "name": "stdout",
     "text": "Welcome back, Eric!\n"
    }
   ],
   "source": [
    "import json\n",
    "\n",
    "filename = 'usernames.json'\n",
    "\n",
    "with open(filename) as f:\n",
    "    username = json.load(f)\n",
    "    print(f\"Welcome back, {username}!\")"
   ]
  },
  {
   "cell_type": "code",
   "execution_count": 4,
   "metadata": {
    "tags": []
   },
   "outputs": [
    {
     "output_type": "stream",
     "name": "stdout",
     "text": "We'll remember you when you come back, dfalj!\n"
    }
   ],
   "source": [
    "import json\n",
    "\n",
    "# load the username, if it has been stored previously.\n",
    "# Otherwise, prompt for the user name and store it.\n",
    "filename = 'username.json'\n",
    "try:\n",
    "    with open(filename) as f:\n",
    "        username = json.load(f)\n",
    "except FileNotFoundError:\n",
    "    username = input(\"What is your name?\")\n",
    "    with open(filename, 'w') as f:\n",
    "        json.dump(username, f)\n",
    "        print(f\"We'll remember you when you come back, {username}!\")\n",
    "else:\n",
    "    print(f\"Welcome back, {username}!\")"
   ]
  },
  {
   "cell_type": "code",
   "execution_count": 6,
   "metadata": {
    "tags": []
   },
   "outputs": [
    {
     "output_type": "stream",
     "name": "stdout",
     "text": "Welcome back, dfalj!\n"
    }
   ],
   "source": [
    "# Refactoring\n",
    "import json\n",
    "\n",
    "def greet_user():\n",
    "    # Greet the user by name.\n",
    "    filename = 'username.json'\n",
    "    try:\n",
    "        with open(filename) as f:\n",
    "            username = json.load(f)\n",
    "    except FileNotFoundError:\n",
    "        username = input(\"What's your name?\")\n",
    "        with open(filename, 'w') as f:\n",
    "            json.dump(username, f)\n",
    "            print(f\"We'll remember you when you come back, {username}!\")\n",
    "    else:\n",
    "        print(f\"Welcome back, {username}!\")\n",
    "\n",
    "greet_user()"
   ]
  },
  {
   "cell_type": "code",
   "execution_count": 9,
   "metadata": {
    "tags": []
   },
   "outputs": [
    {
     "output_type": "stream",
     "name": "stdout",
     "text": "Welcom back, dfalj!\n"
    }
   ],
   "source": [
    "# Retrieving a stored username to a separate function\n",
    "\n",
    "import json\n",
    "\n",
    "def get_stored_username():\n",
    "    # Get stored username if acailable.\n",
    "    filename = 'username.json'\n",
    "    try:\n",
    "        with open(filename) as f:\n",
    "            username = json.load(f)\n",
    "    except FileNotFoundError:\n",
    "        return None\n",
    "    else:\n",
    "        return username\n",
    "\n",
    "def get_new_username():\n",
    "    # Prompt for a new username.\n",
    "    username = input(\"What is your name?\")\n",
    "    fielname = 'username.json'\n",
    "    with open(filename, 'w') as f:\n",
    "        json.dump(username, f)\n",
    "    return username\n",
    "\n",
    "def greet_user():\n",
    "    # Greet the user by name.\n",
    "    username = get_stored_username()\n",
    "    if username:\n",
    "        print(f\"Welcom back, {username}!\")\n",
    "    else:\n",
    "        username = get_new_username()\n",
    "        print(f\"We'll remember you when you come back, {username}!\")\n",
    "\n",
    "greet_user()"
   ]
  },
  {
   "cell_type": "code",
   "execution_count": 8,
   "metadata": {
    "tags": []
   },
   "outputs": [
    {
     "output_type": "stream",
     "name": "stdout",
     "text": "Welcome back, dfalj!\n"
    }
   ],
   "source": [
    "# Retrieving a stored username to a separate function\n",
    "\n",
    "import json\n",
    "\n",
    "def get_stored_username():\n",
    "    # Get stored username if acailable.\n",
    "    filename = 'username.json'\n",
    "    try:\n",
    "        with open(filename) as f:\n",
    "            username = json.load(f)\n",
    "    except FileNotFoundError:\n",
    "        return None\n",
    "    else:\n",
    "        return username\n",
    "\n",
    "def greet_user():\n",
    "    # Great the user by name.\n",
    "    username = get_stored_username()\n",
    "    if username:\n",
    "        print(f\"Welcome back, {username}!\")\n",
    "    else:\n",
    "        username = input(\"What is your name?\")\n",
    "        filename = 'username.json'\n",
    "        with open(filename, 'w') as f:\n",
    "            json.dump(username, f)\n",
    "            print(f\"We'll remember you when you come back, {username}!\")\n",
    "\n",
    "greet_user()"
   ]
  },
  {
   "cell_type": "code",
   "execution_count": 12,
   "metadata": {
    "tags": []
   },
   "outputs": [
    {
     "output_type": "stream",
     "name": "stdout",
     "text": "Please input the number, not the letter!\nI know your favorite number! It's 8472893\n"
    }
   ],
   "source": [
    "# P246 Try it yourself 10-11\n",
    "filename = 'favorite_number.json'\n",
    "try:\n",
    "    favorite_number = int(input(\"Please enter your favorite number: \"))\n",
    "except ValueError:\n",
    "    print(\"Please input the number, not the letter!\")\n",
    "\n",
    "with open(filename, 'w') as f:\n",
    "    json.dump(favorite_number, f)\n",
    "    print(f\"I know your favorite number! It's {favorite_number}\")"
   ]
  },
  {
   "cell_type": "code",
   "execution_count": 13,
   "metadata": {
    "tags": []
   },
   "outputs": [
    {
     "output_type": "stream",
     "name": "stdout",
     "text": "I know your favorite number! It's 8472893\n"
    }
   ],
   "source": [
    "with open(filename, 'r') as f:\n",
    "    favorite_number = json.load(f)\n",
    "    print(f\"I know your favorite number! It's {favorite_number}\")"
   ]
  },
  {
   "cell_type": "code",
   "execution_count": 18,
   "metadata": {
    "tags": []
   },
   "outputs": [
    {
     "output_type": "stream",
     "name": "stdout",
     "text": "We'll remember you when you come back, !\n"
    }
   ],
   "source": [
    "# 10-13\n",
    "import json\n",
    "\n",
    "def get_stored_username():\n",
    "    # Get stored username if acailable.\n",
    "    filename = 'username.json'\n",
    "    try:\n",
    "        with open(filename) as f:\n",
    "            username = json.load(f)\n",
    "    except FileNotFoundError:\n",
    "        return None\n",
    "    else:\n",
    "        return username\n",
    "\n",
    "def get_new_username():\n",
    "    # Prompt for a new username.\n",
    "    username = input(\"What is your name?\")\n",
    "    fielname = 'username.json'\n",
    "    with open(filename, 'w') as f:\n",
    "        json.dump(username, f)\n",
    "    return username\n",
    "\n",
    "def greet_user():\n",
    "    # Greet the user by name.\n",
    "    username = get_stored_username()\n",
    "    if username:\n",
    "        Verify_User = input(\"Is this the correct username? Please enter 'yes' or 'no'\")\n",
    "        if Verify_User == 'yes':\n",
    "            print(f\"Welcome, {username}! \")\n",
    "        else:\n",
    "            username = get_new_username()\n",
    "            print(f\"We'll remember you when you come back, {username}!\")\n",
    "    else:\n",
    "        username = get_new_username()\n",
    "        print(f\"We'll remember you when you come back, {username}!\")\n",
    "\n",
    "greet_user()"
   ]
  },
  {
   "cell_type": "code",
   "execution_count": null,
   "metadata": {},
   "outputs": [],
   "source": []
  }
 ]
}