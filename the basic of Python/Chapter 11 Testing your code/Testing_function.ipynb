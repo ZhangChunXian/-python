{
 "metadata": {
  "language_info": {
   "codemirror_mode": {
    "name": "ipython",
    "version": 3
   },
   "file_extension": ".py",
   "mimetype": "text/x-python",
   "name": "python",
   "nbconvert_exporter": "python",
   "pygments_lexer": "ipython3",
   "version": "3.8.0-final"
  },
  "orig_nbformat": 2,
  "kernelspec": {
   "name": "python38064bitd6f13548ce0f4a2d8509e600cde4312d",
   "display_name": "Python 3.8.0 64-bit"
  }
 },
 "nbformat": 4,
 "nbformat_minor": 2,
 "cells": [
  {
   "cell_type": "code",
   "execution_count": 1,
   "metadata": {},
   "outputs": [],
   "source": [
    "# Testing a Function\n",
    "\n",
    "def get_formatted_name(first, last):\n",
    "    # Generate a neatly formatted full name.\n",
    "    full_name = f\"{first} {last}\"\n",
    "    return full_name.title()"
   ]
  },
  {
   "cell_type": "code",
   "execution_count": 1,
   "metadata": {},
   "outputs": [],
   "source": [
    "# P249 Unit Tests and Test Cases\n",
    "    # A Passing Test\n"
   ]
  },
  {
   "cell_type": "code",
   "execution_count": null,
   "metadata": {},
   "outputs": [],
   "source": [
    "# P253 Try it yourself 11-1 City, Country\n"
   ]
  }
 ]
}