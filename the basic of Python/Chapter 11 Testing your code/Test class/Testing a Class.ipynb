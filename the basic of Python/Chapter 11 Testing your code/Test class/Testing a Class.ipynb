{
 "metadata": {
  "language_info": {
   "codemirror_mode": {
    "name": "ipython",
    "version": 3
   },
   "file_extension": ".py",
   "mimetype": "text/x-python",
   "name": "python",
   "nbconvert_exporter": "python",
   "pygments_lexer": "ipython3",
   "version": 3
  },
  "orig_nbformat": 2
 },
 "nbformat": 4,
 "nbformat_minor": 2,
 "cells": [
  {
   "cell_type": "code",
   "execution_count": null,
   "metadata": {},
   "outputs": [],
   "source": [
    "# Testing a Class\n",
    "    # A Variety of Assert Methods\n",
    "# A Class to Test\n",
    "class AnonymousSurvey:\n",
    "    # Collect anonymous answers to a survey question.\n",
    "\n",
    "    def __init__(self, question):\n",
    "        # Store a question, and prepare to store response.\n",
    "        self.question = question\n",
    "        self.responses = []\n",
    "\n",
    "    def show_question(self):\n",
    "        # Show the survey question.\n",
    "        print(self.question)\n",
    "\n",
    "    def store_response(self, new_response):\n",
    "        # Store a single response to the survey\n",
    "        self.responses.append(new_response)\n",
    "\n",
    "    def show_result(self):\n",
    "        # Show all the responses that have been given.\n",
    "        print(\"Survey results:\")\n",
    "        for response in self.responses:\n",
    "            print(f\"- {response}\")"
   ]
  }
 ]
}